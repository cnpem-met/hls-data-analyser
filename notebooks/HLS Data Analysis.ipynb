{
 "cells": [
  {
   "cell_type": "markdown",
   "id": "a556945f-960e-407c-9403-3d9138475923",
   "metadata": {},
   "source": [
    "# HLS Data Analysis Notebook\n",
    "## Index\n",
    "[Fetching Data from Archiver](#fetch-data)\n",
    "-> [Input section](#fetch-data-input)\n",
    "\n",
    "[Calculate FFT for the loaded PV's data](#calc-FFT)"
   ]
  },
  {
   "cell_type": "markdown",
   "id": "9a589ebb",
   "metadata": {
    "tags": []
   },
   "source": [
    "<a id='fetch-data'></a>\n",
    "## Fetching data from Archiver"
   ]
  },
  {
   "cell_type": "code",
   "execution_count": 2,
   "id": "36f36df1",
   "metadata": {
    "tags": []
   },
   "outputs": [],
   "source": [
    "%gui asyncio\n",
    "from IPython.display import display\n",
    "import ipywidgets as w\n",
    "import ipydatetime\n",
    "\n",
    "import asyncio\n",
    "import aiohttp\n",
    "\n",
    "import pandas as pd\n",
    "\n",
    "from datetime import datetime"
   ]
  },
  {
   "cell_type": "code",
   "execution_count": 3,
   "id": "53c9b1c7",
   "metadata": {
    "tags": []
   },
   "outputs": [],
   "source": [
    "ARCHIVE_URL = 'http://10.0.38.42/retrieval/data/getData.json'\n",
    "data = pd.DataFrame(data={'datetime': [], 'pv': []})"
   ]
  },
  {
   "cell_type": "code",
   "execution_count": 4,
   "id": "b831db53-719e-471a-8697-724478d46c4c",
   "metadata": {
    "tags": []
   },
   "outputs": [],
   "source": [
    "async def fetch(session, pv, time_from, time_to, is_optimized, mean_minutes):\n",
    "    if is_optimized:\n",
    "        pv_query = f'mean_{int(60*mean_minutes)}({pv})'\n",
    "    else:\n",
    "        pv_query = pv\n",
    "    query = {'pv': pv_query, 'from': time_from, 'to': time_to}\n",
    "    response_as_json = {}\n",
    "    async with session.get(ARCHIVE_URL, params=query) as response:\n",
    "        try:\n",
    "            response_as_json = await response.json()\n",
    "        except aiohttp.client_exceptions.ContentTypeError:\n",
    "            print(f'Failed to retrieve data from PV {pv}.')\n",
    "            response_as_json = None\n",
    "        return response_as_json\n",
    "\n",
    "async def retrieve_data(pvs, time_from, time_to, isOptimized=False, mean_minutes=0):\n",
    "    async with aiohttp.ClientSession() as session:\n",
    "        data = await asyncio.gather(*[fetch(session, pv, time_from, time_to, isOptimized, mean_minutes) for pv in pvs])\n",
    "        return data\n",
    "\n",
    "async def fetch_data(pv_list, timespam):\n",
    "    global data\n",
    "    optimize = True\n",
    "    mean_minutes = 3\n",
    "    res = await retrieve_data(pv_list, timespam['init'], timespam['end'], optimize, mean_minutes)\n",
    "    try:\n",
    "        # cleaning response\n",
    "        res_mapped = list(map(lambda x: x[0]['data'], res))\n",
    "    except TypeError:\n",
    "        log.append_stdout('Incorrect PV(s) name(s) or bad timespam. Fetching failed.\\n')\n",
    "        return\n",
    "    values = [list(map(lambda x: x['val'], pv_data)) for pv_data in res_mapped]\n",
    "    ts = [list(map(lambda x: datetime.fromtimestamp(x['secs']).strftime(\"%d.%m.%y %H:%M\"), pv_data)) for pv_data in res_mapped]\n",
    "    # creating pandas dataframe object\n",
    "    d = {'datetime': ts[0]}\n",
    "    for val, pv in zip(values, pv_list):\n",
    "        d[pv] = val\n",
    "    data = pd.DataFrame(data=d)\n",
    "    # indexing by datetime\n",
    "    data.reset_index(drop=True, inplace=True)\n",
    "    data = data.set_index('datetime')\n",
    "    \n",
    "    log.append_stdout('Fetched!\\n')\n",
    "    with pd.option_context('display.max_rows',6):\n",
    "        with pd.option_context('display.max_columns',8):\n",
    "            loaded_data.append_display_data(data)\n",
    "    dropdown_pv.options = data.columns.values\n",
    "    return data\n",
    "\n",
    "def generate_all_sensors_text():\n",
    "    sectors = [17, 16, 15, 14, 13, 1, 1, 20, 19, 18, 6, 6, 5, 4, 3, 11, 11, 10, 9, 8]\n",
    "    axis = [4, 1, 59, 57, 54, 18, 16, 14, 12, 9, 33, 31, 29, 27, 24, 48, 46, 44, 42, 39]\n",
    "    quadrant = ['NE5', 'NE4', 'NE3', 'NE2', 'NE1', 'SE5', 'SE4', 'SE3', 'SE2', 'SE1', 'SW5', 'SW4', 'SW3', 'SW2', 'SW1', 'NW5', 'NW4', 'NW3', 'NW2', 'NW1']\n",
    "    pvs_text = ''\n",
    "    for sector, ax, quad in zip(sectors, axis, quadrant):\n",
    "        pvs_text += f'TU-{sector:02d}C:SS-HLS-Ax{ax:02d}{quad}:Level-Mon\\n'\n",
    "    pvs_text = pvs_text[:-1]\n",
    "    return pvs_text\n",
    "\n",
    "def call_fetch(b):\n",
    "    try:\n",
    "        dt_init = datetime_init_picker.value\n",
    "        dt_init = (dt_init - dt_init.utcoffset()).replace(tzinfo=None).isoformat(timespec='milliseconds')+'Z'\n",
    "        dt_end = datetime_end_picker.value\n",
    "        dt_end = (dt_end - dt_end.utcoffset()).replace(tzinfo=None).isoformat(timespec='milliseconds')+'Z'\n",
    "        timespam = {\"init\": dt_init, \"end\": dt_end}\n",
    "    except AttributeError:\n",
    "        log.append_stdout('Please fill all the fields.\\n')\n",
    "        return\n",
    "    loaded_data.clear_output()\n",
    "    log.append_stdout('Fetching data...\\n')\n",
    "    \n",
    "    pv_list = pv_input.value.split('\\n')\n",
    "    asyncio.create_task(fetch_data(pv_list, timespam))\n",
    "    \n",
    "def dropdown_predefined_pvs_handler(change):\n",
    "    pv_set = change.new\n",
    "    if (pv_set == 'All HLS sensors'):\n",
    "        hls_pvs_text = generate_all_sensors_text()\n",
    "        pv_input.value = hls_pvs_text\n",
    "    elif (pv_set == 'RF Freq'):\n",
    "        pv_input.value = 'RF-Gen:GeneralFreq-RB'\n",
    "    else:\n",
    "        pv_input.value = ''\n"
   ]
  },
  {
   "cell_type": "code",
   "execution_count": 5,
   "id": "238be582-dd46-414b-a68b-10e4e9ee87bf",
   "metadata": {},
   "outputs": [],
   "source": [
    "# Defining widgets\n",
    "\n",
    "dropdown_predefined_pvs = w.Dropdown(options=['None','All HLS sensors', 'RF Freq'], description='Predefined:')\n",
    "\n",
    "pv_input = w.Textarea(\n",
    "    placeholder='PVs list, separeted by Enter',\n",
    "    disabled=False\n",
    ")\n",
    "\n",
    "log = w.Output(layout={'border': '1px solid black', 'height': '200px', 'width': '300px'})\n",
    "\n",
    "loaded_data = w.Output()\n",
    "with loaded_data:\n",
    "    display(data)\n",
    "\n",
    "\n",
    "fetch_btn = w.Button(\n",
    "    description='Fetch data',\n",
    "    disabled=False,\n",
    "    button_style='success', # 'success', 'info', 'warning', 'danger' or ''\n",
    "    icon='check'\n",
    ")\n",
    "\n",
    "datetime_init_picker = ipydatetime.DatetimePicker()\n",
    "datetime_end_picker = ipydatetime.DatetimePicker()\n",
    "\n",
    "# Defining event calls\n",
    "fetch_btn.on_click(call_fetch)\n",
    "\n",
    "dropdown_predefined_pvs.observe(dropdown_predefined_pvs_handler, names='value')\n",
    "\n",
    "# Defining layout\n",
    "column_left = w.VBox([w.Label(value='PVs:'), pv_input, dropdown_predefined_pvs, w.Label(value='Initial datetime:'), datetime_init_picker, w.Label('End datetime:'), datetime_end_picker, fetch_btn])\n",
    "column_right = w.VBox([w.Label(value='Actions log'),log])\n",
    "\n",
    "input_layout = w.HBox([column_left, column_right], layout={'display': 'flex', 'flex_flow': 'row', 'justify_content': 'space-around'})\n",
    "output_layout = w.VBox([w.Label(value='Loaded data'), loaded_data], layout={'align_items': 'center'})"
   ]
  },
  {
   "cell_type": "markdown",
   "id": "570e6650-735e-44bc-82ed-d6ef5cc5e42a",
   "metadata": {},
   "source": [
    "<a id='fetch-data-input'></a>\n",
    "### Type in the name of the PV(s) and select the timespam to retrieve data"
   ]
  },
  {
   "cell_type": "code",
   "execution_count": 6,
   "id": "cee5d72c",
   "metadata": {
    "tags": []
   },
   "outputs": [
    {
     "data": {
      "application/vnd.jupyter.widget-view+json": {
       "model_id": "c640dc12d75548278750c9eee5c627c9",
       "version_major": 2,
       "version_minor": 0
      },
      "text/plain": [
       "HBox(children=(VBox(children=(Label(value='PVs:'), Textarea(value='', placeholder='PVs list, separeted by Ente…"
      ]
     },
     "metadata": {},
     "output_type": "display_data"
    },
    {
     "data": {
      "application/vnd.jupyter.widget-view+json": {
       "model_id": "cb60a4f3befc4799a1a9cac3b6710392",
       "version_major": 2,
       "version_minor": 0
      },
      "text/plain": [
       "VBox(children=(Label(value='Loaded data'), Output()), layout=Layout(align_items='center'))"
      ]
     },
     "metadata": {},
     "output_type": "display_data"
    }
   ],
   "source": [
    "# Calling widgets\n",
    "display(input_layout)\n",
    "display(output_layout)"
   ]
  },
  {
   "cell_type": "markdown",
   "id": "b46fef92-1ff8-4719-8b7e-c8783a83f7a9",
   "metadata": {},
   "source": [
    "## Manipulate data (optional)"
   ]
  },
  {
   "cell_type": "code",
   "execution_count": 7,
   "id": "1d452fee-7839-4095-981e-56f9fe92b545",
   "metadata": {},
   "outputs": [
    {
     "data": {
      "application/vnd.jupyter.widget-view+json": {
       "model_id": "8be0ae4adb29419ab86afc6371678fa7",
       "version_major": 2,
       "version_minor": 0
      },
      "text/plain": [
       "HBox(children=(VBox(children=(Label(value='PV 1'), Dropdown(options=('datetime', 'pv'), value='datetime'))), T…"
      ]
     },
     "metadata": {},
     "output_type": "display_data"
    }
   ],
   "source": [
    "# creating widgets\n",
    "dropdown_pv1 = w.Dropdown(options=data.columns.values)\n",
    "dropdown_pv2 = w.Dropdown(options=data.columns.values)\n",
    "\n",
    "# op = w.Dropdown(options=['Substract', 'Sum'])\n",
    "\n",
    "op = w.ToggleButtons(\n",
    "    options=['+', '-'],\n",
    "    disabled=False,\n",
    "    button_style='', # 'success', 'info', 'warning', 'danger' or ''\n",
    "#     icons=['check'] * 3\n",
    ")\n",
    "\n",
    "btn_apply = w.Button(\n",
    "    description='Apply operation',\n",
    "    disabled=False,\n",
    "    button_style='success', # 'success', 'info', 'warning', 'danger' or ''\n",
    ")\n",
    "\n",
    "layout = w.HBox([w.VBox([w.Label(value='PV 1'), dropdown_pv1]), op, w.VBox([w.Label(value='PV 2'), dropdown_pv2])], layout={'align_items': 'center'})\n",
    "\n",
    "display(layout)"
   ]
  },
  {
   "cell_type": "markdown",
   "id": "3987c01b-f91a-4d07-9f2a-fee032a5a00f",
   "metadata": {},
   "source": [
    "<a id='calc-FFT'></a>\n",
    "## Calculate FFT for the loaded PV's data and plot it"
   ]
  },
  {
   "cell_type": "code",
   "execution_count": 8,
   "id": "70768a31-d99a-4c3c-8f66-f19253864594",
   "metadata": {},
   "outputs": [],
   "source": [
    "%matplotlib widget\n",
    "\n",
    "import numpy as np\n",
    "import time\n",
    "\n",
    "import matplotlib.pylab as plt\n",
    "import matplotlib.dates as mdates\n",
    "\n",
    "from scipy.fft import fftfreq, rfft\n",
    "from scipy.signal import butter, filtfilt\n",
    "from scipy.signal import find_peaks, peak_widths"
   ]
  },
  {
   "cell_type": "code",
   "execution_count": 9,
   "id": "19c15208-19aa-4d30-9e12-2a83f12c6fac",
   "metadata": {},
   "outputs": [],
   "source": [
    "def calculate_fft():\n",
    "    fft_plot_data = []\n",
    "    filtered_timeseries = []\n",
    "    \n",
    "    timeserie = np.array(data.loc[:, dropdown_pv.value].values)\n",
    "    timestamp = data.index.values[1]\n",
    "    dt = data.index\n",
    "    pv = dropdown_pv.value\n",
    "\n",
    "    # ignoring datasets with more than 50% of repeated values (=no value)\n",
    "    _, counts_elem = np.unique(timeserie, return_counts=True)\n",
    "    repeated_elem = 0\n",
    "    for count in counts_elem:\n",
    "        if (count > 1):\n",
    "            repeated_elem += count - 1\n",
    "    percentage_repeated = repeated_elem/len(timeserie)\n",
    "    if (percentage_repeated > 0.5):\n",
    "        print(f'FFT of PV {pv} failed: percentage of static data of [{percentage_repeated}].')\n",
    "        return None\n",
    "    # defining sampling properties\n",
    "    ts1 = time.mktime(datetime.strptime(data.index.values[0], \"%d.%m.%y %H:%M\").timetuple())\n",
    "    ts2 = time.mktime(datetime.strptime(data.index.values[1], \"%d.%m.%y %H:%M\").timetuple())\n",
    "    acq_period = ts2 - ts1\n",
    "    T = acq_period # in seconds\n",
    "    N = len(timeserie)\n",
    "    # creating generic time x axis data\n",
    "    time_ax = np.linspace(0, T*N, N)\n",
    "    # creating frequency x axis data\n",
    "    W = fftfreq(N, T)[:N//2+1]\n",
    "    # applying filter if needed\n",
    "    if (False):\n",
    "        b, a = butter(4, [5.55e-5, 2.77e-4], 'bandpass', fs=1/T) #bandpass from 1h to 5h\n",
    "        try:\n",
    "            timeserie = filtfilt(b,a, timeserie)\n",
    "        except ValueError:\n",
    "            print(f'Filter not applyed in ts {timestamp}')\n",
    "    # calculating fft\n",
    "    yr = rfft(timeserie)\n",
    "    yr = np.abs(yr)**2\n",
    "    # finding the peaks of fft and its properties\n",
    "    yp = 2/(N/2) * yr\n",
    "    peaks, _ = find_peaks(yp)\n",
    "    # prominences = peak_prominences(yp, peaks)[0]\n",
    "    widths = peak_widths(yp, peaks, rel_height=0.5)[0]\n",
    "    xf = np.array(W)\n",
    "    xp = 1/xf/60/60\n",
    "    try:\n",
    "        y_max_peak = max(yp[peaks])\n",
    "    except ValueError:\n",
    "        print(f'Not calculated fft for pv {pv} in {timestamp}')\n",
    "        return None\n",
    "    x_max_peak = np.where(yp == y_max_peak)[0][0]\n",
    "    period_max_peak = xp[x_max_peak]\n",
    "    idx_max_peak = np.where(peaks == x_max_peak)[0][0]\n",
    "    width_max_peak = widths[idx_max_peak]\n",
    "    # filtering curves by the means of the amplitude of max peak and its width\n",
    "#     if (pv == 'RF-Gen:GeneralFreq-RB'):\n",
    "#         if (y_max_peak > 5000 and y_max_peak < 300000 and width_max_peak < 4):\n",
    "#             fft_plot_data = (W, yr, N, timestamp, period_max_peak)\n",
    "#             filtered_timeseries = filtered_data\n",
    "#     elif (pv == 'HLS:C4_S2_LEVEL'):\n",
    "#         if (y_max_peak > 1e-3 and width_max_peak < 3):\n",
    "#             fft_plot_data = (W, yr, N, timestamp, period_max_peak)\n",
    "#             filtered_timeseries = filtered_data\n",
    "#     else:\n",
    "#         print(f\"Doesn't know how to plot {pv}, skiping it...\", 'danger')\n",
    "#         return None\n",
    "    \n",
    "    output = {'fft_data': (xp, yp), 'time_data': (dt, timeserie)}\n",
    "    return output\n",
    "\n",
    "def plot_fft_static(b):\n",
    "    fft_data = calculate_fft()\n",
    "    if (fft_data):\n",
    "        plot_container.clear_output()\n",
    "        plt.cla()\n",
    "        with plot_container:\n",
    "            fig = plt.figure()\n",
    "            axs = fig.subplots(2,1)\n",
    "            xp = np.array(fft_data['fft_data'][0])\n",
    "            yp = fft_data['fft_data'][1]\n",
    "            dt = fft_data['time_data'][0]\n",
    "            ts = fft_data['time_data'][1]\n",
    "            axs[0].plot(dt, ts)\n",
    "            axs[1].plot(xp, yp)        \n",
    "\n",
    "            locator = mdates.AutoDateLocator(minticks=5, maxticks=10)\n",
    "            formatter = mdates.ConciseDateFormatter(locator)\n",
    "            axs[0].xaxis.set_major_locator(locator)\n",
    "            axs[0].xaxis.set_major_formatter(formatter)        \n",
    "\n",
    "            plt.show()\n",
    "            \n",
    "def apply_filter_handler(change):\n",
    "    if (change.new == True):\n",
    "        max_filter.disabled = False\n",
    "        min_filter.disabled = False\n",
    "    else:\n",
    "        max_filter.disabled = True\n",
    "        min_filter.disabled = True\n"
   ]
  },
  {
   "cell_type": "code",
   "execution_count": 10,
   "id": "d1869aaf-68dd-4df6-9d90-5f737e5350ab",
   "metadata": {},
   "outputs": [
    {
     "data": {
      "application/vnd.jupyter.widget-view+json": {
       "model_id": "2527611f6e95444c836dc1c70e14b79a",
       "version_major": 2,
       "version_minor": 0
      },
      "text/plain": [
       "VBox(children=(VBox(children=(Label(value='Select one PV to analyze'), Dropdown(options=('datetime', 'pv'), va…"
      ]
     },
     "metadata": {},
     "output_type": "display_data"
    }
   ],
   "source": [
    "# defining widgets\n",
    "plot_fft_btn = w.Button(\n",
    "    description='Plot FFT',\n",
    "    disabled=False,\n",
    "    button_style='success'\n",
    ")\n",
    "\n",
    "plot_container = w.Output()\n",
    "\n",
    "check_filter = w.Checkbox(\n",
    "    value=False,\n",
    "    description='Apply filter',\n",
    "    disabled=False,\n",
    "    indent=False\n",
    ")\n",
    "\n",
    "min_filter = w.FloatText(\n",
    "    description='Lower limit:',\n",
    "    disabled=True\n",
    ")\n",
    "\n",
    "max_filter = w.FloatText(\n",
    "    description='Upper limit:',\n",
    "    disabled=True\n",
    ")\n",
    "\n",
    "dropdown_pv = w.Dropdown(options=data.columns.values)\n",
    "\n",
    "# defining event calls\n",
    "plot_fft_btn.on_click(plot_fft_static)\n",
    "check_filter.observe(apply_filter_handler, names='value')\n",
    "\n",
    "# defining layout elements\n",
    "\n",
    "input_container = w.VBox([w.Label(value='Select one PV to analyze'), dropdown_pv, check_filter, min_filter, max_filter, plot_fft_btn], layout={'border': '1px solid white', 'padding': '10px', 'display': 'flex', 'align_items': 'center'})\n",
    "output_container = plot_container\n",
    "\n",
    "container = w.VBox([input_container, output_container], layout={'display': 'flex', 'align_items': 'center'})\n",
    "\n",
    "# displaying widgets\n",
    "display(container)\n",
    "\n",
    "\n",
    "\n"
   ]
  }
 ],
 "metadata": {
  "kernelspec": {
   "display_name": "Python 3 (ipykernel)",
   "language": "python",
   "name": "python3"
  },
  "language_info": {
   "codemirror_mode": {
    "name": "ipython",
    "version": 3
   },
   "file_extension": ".py",
   "mimetype": "text/x-python",
   "name": "python",
   "nbconvert_exporter": "python",
   "pygments_lexer": "ipython3",
   "version": "3.7.4"
  },
  "toc-autonumbering": false,
  "toc-showcode": true,
  "toc-showmarkdowntxt": true
 },
 "nbformat": 4,
 "nbformat_minor": 5
}
